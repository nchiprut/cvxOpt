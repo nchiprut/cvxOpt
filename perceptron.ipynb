{
 "cells": [
  {
   "cell_type": "markdown",
   "metadata": {},
   "source": [
    "# Classification - Titanic data set"
   ]
  },
  {
   "cell_type": "code",
   "execution_count": 1,
   "metadata": {},
   "outputs": [],
   "source": [
    "%matplotlib inline\n",
    "import numpy as np\n",
    "import pandas as pd\n",
    "import matplotlib.pyplot as plt"
   ]
  },
  {
   "cell_type": "markdown",
   "metadata": {},
   "source": [
    "In this notebook we will use dataset from the titanic.\n",
    "\n",
    "\n",
    "Each entry in the dataset has the following features: \n",
    "\n",
    "-  class (1st, 2nd,...)\n",
    "-  Age (float)\n",
    "-  Sex (Male /Female)\n",
    "\n",
    "\n",
    "We will try to predict for evey entry if it describes a pearson who survived or not.\n",
    "\n",
    "Fist, read the dataset and clean:"
   ]
  },
  {
   "cell_type": "code",
   "execution_count": 2,
   "metadata": {},
   "outputs": [
    {
     "name": "stdout",
     "output_type": "stream",
     "text": [
      "X (input) dimensions:  (756, 3)\n",
      "y (output) dimensions:  (756, 1)\n"
     ]
    },
    {
     "data": {
      "text/html": [
       "<div>\n",
       "<style scoped>\n",
       "    .dataframe tbody tr th:only-of-type {\n",
       "        vertical-align: middle;\n",
       "    }\n",
       "\n",
       "    .dataframe tbody tr th {\n",
       "        vertical-align: top;\n",
       "    }\n",
       "\n",
       "    .dataframe thead th {\n",
       "        text-align: right;\n",
       "    }\n",
       "</style>\n",
       "<table border=\"1\" class=\"dataframe\">\n",
       "  <thead>\n",
       "    <tr style=\"text-align: right;\">\n",
       "      <th></th>\n",
       "      <th>PClass</th>\n",
       "      <th>Age</th>\n",
       "      <th>SexCode</th>\n",
       "      <th>Survived</th>\n",
       "    </tr>\n",
       "  </thead>\n",
       "  <tbody>\n",
       "    <tr>\n",
       "      <th>0</th>\n",
       "      <td>1</td>\n",
       "      <td>29.00</td>\n",
       "      <td>1</td>\n",
       "      <td>1</td>\n",
       "    </tr>\n",
       "    <tr>\n",
       "      <th>1</th>\n",
       "      <td>1</td>\n",
       "      <td>2.00</td>\n",
       "      <td>1</td>\n",
       "      <td>-1</td>\n",
       "    </tr>\n",
       "    <tr>\n",
       "      <th>2</th>\n",
       "      <td>1</td>\n",
       "      <td>30.00</td>\n",
       "      <td>0</td>\n",
       "      <td>-1</td>\n",
       "    </tr>\n",
       "    <tr>\n",
       "      <th>3</th>\n",
       "      <td>1</td>\n",
       "      <td>25.00</td>\n",
       "      <td>1</td>\n",
       "      <td>-1</td>\n",
       "    </tr>\n",
       "    <tr>\n",
       "      <th>4</th>\n",
       "      <td>1</td>\n",
       "      <td>0.92</td>\n",
       "      <td>0</td>\n",
       "      <td>1</td>\n",
       "    </tr>\n",
       "  </tbody>\n",
       "</table>\n",
       "</div>"
      ],
      "text/plain": [
       "   PClass    Age  SexCode  Survived\n",
       "0       1  29.00        1         1\n",
       "1       1   2.00        1        -1\n",
       "2       1  30.00        0        -1\n",
       "3       1  25.00        1        -1\n",
       "4       1   0.92        0         1"
      ]
     },
     "execution_count": 2,
     "metadata": {},
     "output_type": "execute_result"
    }
   ],
   "source": [
    "data = pd.read_csv('./Titanic.csv')[[\"PClass\",\"Age\",\"SexCode\",\"Survived\"]]\n",
    "\n",
    "data = data.dropna(how='any')\n",
    "mapper = {'1st':1, '2nd':2,'3rd':3}\n",
    "data = data[data['PClass'].isin(mapper.keys())]\n",
    "data['PClass'] = list(map( lambda v: mapper[v], data['PClass'].values))\n",
    "data.loc[data.Survived == 0, 'Survived'] = -1\n",
    "\n",
    "X = np.asmatrix(data.drop('Survived', axis=1))\n",
    "y = np.asmatrix(data['Survived']).T\n",
    "\n",
    "print(\"X (input) dimensions: \", X.shape)\n",
    "print(\"y (output) dimensions: \", y.shape)\n",
    "data.head()"
   ]
  },
  {
   "cell_type": "markdown",
   "metadata": {},
   "source": [
    "Let's visualize the data and try to get a feeling how it is distributed:"
   ]
  },
  {
   "cell_type": "code",
   "execution_count": 3,
   "metadata": {},
   "outputs": [
    {
     "data": {
      "text/plain": [
       "<matplotlib.axes._subplots.AxesSubplot at 0x7f2eac297898>"
      ]
     },
     "execution_count": 3,
     "metadata": {},
     "output_type": "execute_result"
    },
    {
     "data": {
      "image/png": "[encoded data removed]",
      "text/plain": [
       "<matplotlib.figure.Figure at 0x7f2eae349048>"
      ]
     },
     "metadata": {},
     "output_type": "display_data"
    },
    {
     "data": {
      "image/png": "[encoded data removed]",
      "text/plain": [
       "<matplotlib.figure.Figure at 0x7f2eac297eb8>"
      ]
     },
     "metadata": {},
     "output_type": "display_data"
    }
   ],
   "source": [
    "ax = data[y>0].plot(kind='scatter', x=\"SexCode\",y=\"Age\", label='survieved')\n",
    "data[y<=0].plot(kind='scatter', x=\"SexCode\",y=\"Age\", color='red', marker='_', label='passed', ax=ax)\n",
    "\n",
    "ax = data[y>0].plot(kind='scatter', x=\"PClass\",y=\"Age\", label='survieved')\n",
    "data[y<=0].plot(kind='scatter', x=\"PClass\",y=\"Age\", color='red', marker='_', label='passed', ax=ax)\n"
   ]
  },
  {
   "cell_type": "markdown",
   "metadata": {},
   "source": [
    "__*Recall*__ Given:\n",
    "-  $X\\in \\mathbb{R}^{n\\times p}$ a dataset with $n$ examples and $p$ features,\n",
    "-  $y\\in \\mathbb{R}^n$ the output we want to predict/fit.\n",
    "\n",
    "We want to learn a function \n",
    "$f:\\mathbb{R}^{n\\times p}\\rightarrow \\mathbb{R}^n$ s.t. \n",
    "$||f\\left( X\\right) - y||_2$ is minimized.\n",
    "\n",
    "We will use linear predictor for this task, i.e. we'll try to solve:\n",
    "$ \\min_{\\theta} ||X \\theta -y||_2 $\n",
    "\n",
    "And use the optimized $\\theta^*$ to define our predictor $f(x) = sign(\\theta^Tx)$\n",
    "\n",
    "\n",
    "Finding the optimal solution is given by the following closed form:\n",
    "$\\theta^{*}=\\left(X^{T}X\\right)^{-1}X^{T}y$"
   ]
  },
  {
   "cell_type": "code",
   "execution_count": 4,
   "metadata": {},
   "outputs": [
    {
     "data": {
      "text/plain": [
       "matrix([[-0.23918534],\n",
       "        [-0.00362094],\n",
       "        [ 1.09258828]])"
      ]
     },
     "execution_count": 4,
     "metadata": {},
     "output_type": "execute_result"
    }
   ],
   "source": [
    "w = np.linalg.inv(X.T * X) * X.T *y\n",
    "w"
   ]
  },
  {
   "cell_type": "markdown",
   "metadata": {},
   "source": [
    "Using $\\theta^{*}$ we can predict $ \\hat{y} = f(x) = sign(x^T\\theta^{*})$\n",
    "\n",
    "Lets check the minimized solution and predictor accuracy:"
   ]
  },
  {
   "cell_type": "code",
   "execution_count": 5,
   "metadata": {},
   "outputs": [
    {
     "name": "stdout",
     "output_type": "stream",
     "text": [
      "loss:  21.5973492548\n",
      "accuracy : 0.779100529101\n"
     ]
    }
   ],
   "source": [
    "yhat = X*w\n",
    "print (\"loss: \", np.linalg.norm(y - yhat))\n",
    "print (\"accuracy :\", np.sum(np.multiply(yhat, y) > 0) / y.size)"
   ]
  },
  {
   "cell_type": "markdown",
   "metadata": {},
   "source": [
    "Notice the objective is not zero, which means we cannot find a linear predictor in $X$ which fit $y$ perfectly.\n",
    "\n",
    "Lets check what our function learned:"
   ]
  },
  {
   "cell_type": "code",
   "execution_count": 6,
   "metadata": {},
   "outputs": [
    {
     "data": {
      "text/plain": [
       "<matplotlib.axes._subplots.AxesSubplot at 0x7f2eae5a5400>"
      ]
     },
     "execution_count": 6,
     "metadata": {},
     "output_type": "execute_result"
    },
    {
     "data": {
      "image/png": "[encoded data removed]",
      "text/plain": [
       "<matplotlib.figure.Figure at 0x7f2eac1fc8d0>"
      ]
     },
     "metadata": {},
     "output_type": "display_data"
    }
   ],
   "source": [
    "ax = data[yhat>0].plot(kind='scatter', x=\"SexCode\",y=\"Age\", label='survieved')\n",
    "data[yhat<=0].plot(kind='scatter', x=\"SexCode\",y=\"Age\", color='red', marker='_', label='passed', ax=ax)\n"
   ]
  },
  {
   "cell_type": "markdown",
   "metadata": {},
   "source": [
    "Notice that we achieved the optimal solution,\n",
    "but it is optimal w.r.t $\\ell_2$ norm, \n",
    "does it make sense to try linear fitting on a classification task?\n",
    "\n",
    "## Lets try different approach:\n",
    "- Our model is still linear, i.e. $f(x)=sign(θ^Tx)$, thus all we need is to learn $\\theta$.\n",
    "- This time We'll use convex optimization to define a problem which (hoefully) will:\n",
    "    - Find better $\\theta$. \n",
    "    - Have better time complexity.\n",
    "\n",
    "We can solve the problem exactly by formulating:\n",
    "\n",
    "\\begin{align*}\n",
    "\\min_{w}.\\quad & 0\\\\ \n",
    "s.t.\\quad & -y^{i}\\left\\langle x^{i},w\\right\\rangle \\leq0,\\forall i\\in\\left[n\\right]\n",
    "\\end{align*}\n",
    "\n",
    "But since the LS didn't manage to separate the data, the data\n",
    "is not lineary seperable.\n",
    "We can coclude that the domain of above oprtimization is empty, i.e. \n",
    "\n",
    "\\begin{align*}\n",
    "\\bigcap_{i\\in [n]} \\left\\{ w : -y^{i}\\left\\langle x^{i},w\\right\\rangle \\leq0 \\right\\} = \\emptyset\n",
    "\\end{align*}\n",
    "\n",
    "and thus the above optimization will never return any solution (and  output objective $\\infty$).\n",
    "\n",
    "So we need to drop constraints, lets try again:\n",
    "\n",
    "\\begin{align*}\n",
    "\\min_{w}.\\quad & \\sum_{i}\\boldsymbol{1}_{y^{i}\\left\\langle x^{i},w\\right\\rangle \\geq0}\n",
    "\\end{align*}\n",
    "\n",
    "*BUT* the above formulation is not a convex problem.\n",
    "we'll solve this issue by minimizing a function which is an upper bound of the previous unconvex problem, but this one will be a convex optimization problem:\n",
    "\n",
    "\\begin{align*}\n",
    "\\min_{w}.\\quad & \\sum_{i}\\max\\left\\{ 0,1-y^{i}\\left\\langle x^{i},w\\right\\rangle \\right\\}\n",
    "\\end{align*}\n",
    "\n",
    "Now we can start optimizing, and since we have no constraints we can just use gradient descent.\n",
    "\n",
    "Denote: $ f(w) = \\sum_{i}\\max\\left\\{ 0,1-y^{i}\\left\\langle x^{i},w\\right\\rangle \\right\\}$\n",
    "and notice that there are many points which are not differential, but practicly it doenst affect us, note that wherever $f(w)$ is defferential we have:\n",
    "\n",
    "\\begin{align*}\n",
    "\\nabla f(w) = \\sum_{\\left\\{ i : y^{i}\\left\\langle x^{i},w\\right\\rangle \\leq 1 \\right\\}}-y^{i} x^{i}\n",
    "\\end{align*}"
   ]
  },
  {
   "cell_type": "code",
   "execution_count": 7,
   "metadata": {},
   "outputs": [],
   "source": [
    "def f(w):\n",
    "    return np.sum(np.maximum(1- np.multiply(y, X*w).T, np.zeros(y.size)))\n",
    "\n",
    "def gradient(w):\n",
    "    g_i = np.array(np.multiply(y, X*w) <= 1).flatten()\n",
    "    return - (X[g_i].T * y[g_i])\n"
   ]
  },
  {
   "cell_type": "markdown",
   "metadata": {},
   "source": [
    "Randomize feasible starting point $w_0$, and  define $ \\epsilon $ for the stopping criterion."
   ]
  },
  {
   "cell_type": "code",
   "execution_count": 8,
   "metadata": {},
   "outputs": [],
   "source": [
    "w = np.random.normal(0,10,3).reshape(3,1)\n",
    "eps = 1e-1"
   ]
  },
  {
   "cell_type": "markdown",
   "metadata": {},
   "source": [
    "Before we use GD. we'll implement the backtracking algorithm:\n",
    "\n",
    "Given: \n",
    "- $w\\in dom(f)$\n",
    "- $\\Delta w$ a direction which we are restricted to.\n",
    "\n",
    "This algorithm returns $t\\in \\mathbb{R}$ s.t. $ f(w+ t \\Delta w )$ is lower than the linear approximation at $w$."
   ]
  },
  {
   "cell_type": "code",
   "execution_count": 9,
   "metadata": {},
   "outputs": [],
   "source": [
    "def backtrack(w, g):\n",
    "    t=1\n",
    "    g_norm = g.T*g\n",
    "    base_eval = f(w)\n",
    "    while f(w + (t*g)) > (base_eval - (0.1*t*g_norm)):\n",
    "        t /= 2\n",
    "    return t"
   ]
  },
  {
   "cell_type": "markdown",
   "metadata": {},
   "source": [
    "Now we can finally use GD to solve the problem."
   ]
  },
  {
   "cell_type": "code",
   "execution_count": 10,
   "metadata": {},
   "outputs": [
    {
     "name": "stdout",
     "output_type": "stream",
     "text": [
      "step number: 0, loss: 33048.60806820634, accuracy: 0.5833333333333334\n",
      "step number: 50, loss: 905.8831776781146, accuracy: 0.7698412698412699\n",
      "step number: 96, loss: 643.491118605937, accuracy: 0.7791005291005291\n"
     ]
    }
   ],
   "source": [
    "g = -gradient(w)\n",
    "t = backtrack(w, g)\n",
    "i=0\n",
    "while t * g.T*g > eps :\n",
    "    g = -gradient(w)\n",
    "    t = backtrack(w, g)\n",
    "    w += t * g\n",
    "    \n",
    "    if i % 50 == 0:\n",
    "        print(\"step number: {}, loss: {}, accuracy: {}\".format(\n",
    "            i, f(w), np.sum(np.multiply(X*w, y) > 0) / y.size))\n",
    "              \n",
    "    i+=1\n",
    "    \n",
    "print(\"step number: {}, loss: {}, accuracy: {}\".format(\n",
    "    i, f(w), np.sum(np.multiply(X*w, y) > 0) / y.size))"
   ]
  },
  {
   "cell_type": "code",
   "execution_count": 11,
   "metadata": {},
   "outputs": [
    {
     "data": {
      "text/plain": [
       "<matplotlib.axes._subplots.AxesSubplot at 0x7f2eac143198>"
      ]
     },
     "execution_count": 11,
     "metadata": {},
     "output_type": "execute_result"
    },
    {
     "data": {
      "image/png": "[encoded data removed]",
      "text/plain": [
       "<matplotlib.figure.Figure at 0x7f2eac13e048>"
      ]
     },
     "metadata": {},
     "output_type": "display_data"
    }
   ],
   "source": [
    "yhat = X*w\n",
    "ax = data[yhat>0].plot(kind='scatter', x=\"SexCode\",y=\"Age\", label='survieved')\n",
    "data[yhat<=0].plot(kind='scatter', x=\"SexCode\",y=\"Age\", color='red', marker='_', label='passed', ax=ax)\n"
   ]
  },
  {
   "cell_type": "markdown",
   "metadata": {},
   "source": [
    "Notice that we converged to the same accuracy, not the same $w$.\n",
    "\n",
    "The reason we didn't get better result is probably because the best solution is so trivial (just on sex axis), using other features we might have seen other results. \n",
    "\n",
    "The advantage we got in this specific problem is the running time.\n",
    "\n",
    "Finally note that by taking step size $t=1$ and updating the gradient one example at a time, we get exactly the __perceptron__ algorithm (left to prove that these two changes still produce decreasing steps)."
   ]
  }
 ],
 "metadata": {
  "kernelspec": {
   "display_name": "Python 3",
   "language": "python",
   "name": "python3"
  },
  "language_info": {
   "codemirror_mode": {
    "name": "ipython",
    "version": 3
   },
   "file_extension": ".py",
   "mimetype": "text/x-python",
   "name": "python",
   "nbconvert_exporter": "python",
   "pygments_lexer": "ipython3",
   "version": "3.5.2"
  }
 },
 "nbformat": 4,
 "nbformat_minor": 2
}

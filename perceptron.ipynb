{
 "cells": [
  {
   "cell_type": "markdown",
   "metadata": {},
   "source": [
    "# Classification - Titanic data set"
   ]
  },
  {
   "cell_type": "code",
   "execution_count": 10,
   "metadata": {},
   "outputs": [],
   "source": [
    "%matplotlib inline\n",
    "import numpy as np\n",
    "import pandas as pd\n",
    "import matplotlib.pyplot as plt"
   ]
  },
  {
   "cell_type": "markdown",
   "metadata": {},
   "source": [
    "In this notebook we will use dataset from the titanic.\n",
    "\n",
    "\n",
    "Each entry in the dataset has the following features: \n",
    "\n",
    "-  item class (1st, 2nd,...)\n",
    "-  item Age (float)\n",
    "-  Sex (Male /Female)\n",
    "\n",
    "\n",
    "We will try to predict for evey entry if it describes a pearson who survived or not.\n",
    "\n",
    "Fist, read the dataset and clean:"
   ]
  },
  {
   "cell_type": "code",
   "execution_count": 11,
   "metadata": {},
   "outputs": [
    {
     "data": {
      "text/html": [
       "<div>\n",
       "<style scoped>\n",
       "    .dataframe tbody tr th:only-of-type {\n",
       "        vertical-align: middle;\n",
       "    }\n",
       "\n",
       "    .dataframe tbody tr th {\n",
       "        vertical-align: top;\n",
       "    }\n",
       "\n",
       "    .dataframe thead th {\n",
       "        text-align: right;\n",
       "    }\n",
       "</style>\n",
       "<table border=\"1\" class=\"dataframe\">\n",
       "  <thead>\n",
       "    <tr style=\"text-align: right;\">\n",
       "      <th></th>\n",
       "      <th>PClass</th>\n",
       "      <th>Age</th>\n",
       "      <th>SexCode</th>\n",
       "      <th>Survived</th>\n",
       "    </tr>\n",
       "  </thead>\n",
       "  <tbody>\n",
       "    <tr>\n",
       "      <th>0</th>\n",
       "      <td>1</td>\n",
       "      <td>29.00</td>\n",
       "      <td>1</td>\n",
       "      <td>1</td>\n",
       "    </tr>\n",
       "    <tr>\n",
       "      <th>1</th>\n",
       "      <td>1</td>\n",
       "      <td>2.00</td>\n",
       "      <td>1</td>\n",
       "      <td>-1</td>\n",
       "    </tr>\n",
       "    <tr>\n",
       "      <th>2</th>\n",
       "      <td>1</td>\n",
       "      <td>30.00</td>\n",
       "      <td>0</td>\n",
       "      <td>-1</td>\n",
       "    </tr>\n",
       "    <tr>\n",
       "      <th>3</th>\n",
       "      <td>1</td>\n",
       "      <td>25.00</td>\n",
       "      <td>1</td>\n",
       "      <td>-1</td>\n",
       "    </tr>\n",
       "    <tr>\n",
       "      <th>4</th>\n",
       "      <td>1</td>\n",
       "      <td>0.92</td>\n",
       "      <td>0</td>\n",
       "      <td>1</td>\n",
       "    </tr>\n",
       "  </tbody>\n",
       "</table>\n",
       "</div>"
      ],
      "text/plain": [
       "   PClass    Age  SexCode  Survived\n",
       "0       1  29.00        1         1\n",
       "1       1   2.00        1        -1\n",
       "2       1  30.00        0        -1\n",
       "3       1  25.00        1        -1\n",
       "4       1   0.92        0         1"
      ]
     },
     "execution_count": 11,
     "metadata": {},
     "output_type": "execute_result"
    }
   ],
   "source": [
    "data = pd.read_csv('./Titanic.csv')[[\"PClass\",\"Age\",\"SexCode\",\"Survived\"]]\n",
    "\n",
    "data = data.dropna(how='any')\n",
    "mapper = {'1st':1, '2nd':2,'3rd':3}\n",
    "data = data[data['PClass'].isin(mapper.keys())]\n",
    "data['PClass'] = list(map( lambda v: mapper[v], data['PClass'].values))\n",
    "data.loc[data.Survived == 0, 'Survived'] = -1\n",
    "\n",
    "X = np.asmatrix(data.drop('Survived', axis=1))\n",
    "y = np.asmatrix(data['Survived']).T\n",
    "data.head()\n"
   ]
  },
  {
   "cell_type": "markdown",
   "metadata": {},
   "source": [
    "*Recall*: Given $X\\in \\mathbb{R}^{n\\times p}$ a dataset with $n$ examples and $p$ features, and $y\\in \\mathbb{R}^n$ the output we want to predict/fit.\n",
    "\n",
    "we want to learn a function \n",
    "$f:\\mathbb{R}^{n\\times p}\\rightarrow \\mathbb{R}^n$ s.t. \n",
    "$||f\\left( X\\right) - y||$ is minimized.\n",
    "\n",
    "We will use linear predictor for this task, i.e. we'll try to solve:\n",
    "$ \\min_{\\theta} ||X \\theta -y|| $\n",
    "\n",
    "And use the optimized $\\theta^*$ to define our predictor $f(x) = sign(\\theta^Tx)$\n",
    "\n",
    "We'll use the simplest model: $f\\left(x\\right)=\\sum\\theta_{i}x_{i}=x^{T}\\theta$\n",
    "And yry to minimize it's square loss:\n",
    "\n",
    "Finding the optimal solution is given by the following closed form:\n",
    "$\\theta^{*}=\\left(X^{T}X\\right)^{-1}X^{T}y$"
   ]
  },
  {
   "cell_type": "code",
   "execution_count": 12,
   "metadata": {},
   "outputs": [
    {
     "data": {
      "text/plain": [
       "matrix([[-0.23918534],\n",
       "        [-0.00362094],\n",
       "        [ 1.09258828]])"
      ]
     },
     "execution_count": 12,
     "metadata": {},
     "output_type": "execute_result"
    }
   ],
   "source": [
    "w = np.linalg.inv(X.T * X) * X.T *y\n",
    "w"
   ]
  },
  {
   "cell_type": "markdown",
   "metadata": {},
   "source": [
    "Lets check accuracy:"
   ]
  },
  {
   "cell_type": "code",
   "execution_count": 13,
   "metadata": {},
   "outputs": [
    {
     "data": {
      "text/plain": [
       "0.77910052910052907"
      ]
     },
     "execution_count": 13,
     "metadata": {},
     "output_type": "execute_result"
    }
   ],
   "source": [
    "yhat = X*w\n",
    "np.sum(np.multiply(yhat, y)>0)/y.size"
   ]
  },
  {
   "cell_type": "code",
   "execution_count": 14,
   "metadata": {},
   "outputs": [
    {
     "data": {
      "text/plain": [
       "<matplotlib.axes._subplots.AxesSubplot at 0x7fbf8d1ab630>"
      ]
     },
     "execution_count": 14,
     "metadata": {},
     "output_type": "execute_result"
    },
    {
     "data": {
      "image/png": "[encoded data removed]",
      "text/plain": [
       "<matplotlib.figure.Figure at 0x7fbf8d0147f0>"
      ]
     },
     "metadata": {},
     "output_type": "display_data"
    },
    {
     "data": {
      "image/png": "[encoded data removed]",
      "text/plain": [
       "<matplotlib.figure.Figure at 0x7fbf8d1abdd8>"
      ]
     },
     "metadata": {},
     "output_type": "display_data"
    }
   ],
   "source": [
    "ax = data[y>0].plot(kind='scatter', x=\"SexCode\",y=\"Age\", label='survieved')\n",
    "data[y<=0].plot(kind='scatter', x=\"SexCode\",y=\"Age\", color='red', marker='_', label='passed', ax=ax)\n",
    "\n",
    "ax = data[y>0].plot(kind='scatter', x=\"PClass\",y=\"Age\", label='survieved')\n",
    "data[y<=0].plot(kind='scatter', x=\"PClass\",y=\"Age\", color='red', marker='_', label='passed', ax=ax)\n"
   ]
  },
  {
   "cell_type": "code",
   "execution_count": 15,
   "metadata": {},
   "outputs": [
    {
     "data": {
      "text/plain": [
       "<matplotlib.axes._subplots.AxesSubplot at 0x7fbf8cf068d0>"
      ]
     },
     "execution_count": 15,
     "metadata": {},
     "output_type": "execute_result"
    },
    {
     "data": {
      "image/png": "[encoded data removed]",
      "text/plain": [
       "<matplotlib.figure.Figure at 0x7fbf8d0444a8>"
      ]
     },
     "metadata": {},
     "output_type": "display_data"
    }
   ],
   "source": [
    "ax = data[yhat>0].plot(kind='scatter', x=\"SexCode\",y=\"Age\", label='survieved')\n",
    "data[yhat<=0].plot(kind='scatter', x=\"SexCode\",y=\"Age\", color='red', marker='_', label='passed', ax=ax)\n"
   ]
  },
  {
   "cell_type": "markdown",
   "metadata": {},
   "source": [
    "Notice that we achieved the optimal solution,\n",
    "but it is optimal w.r.t $\\ell_2$ norm, \n",
    "does it make sense to try linear fitting on a classification task?\n",
    "\n",
    "Lets try different approach, define convex optimization which will\n",
    "find a function $f$ which might make more sense.\n",
    "\n",
    "We can solve the problem exactly by formulating:\n",
    "\n",
    "\\begin{align*}\n",
    "\\min_{w}.\\quad & 0\\\\ \n",
    "s.t.\\quad & -y^{i}\\left\\langle x^{i},w\\right\\rangle \\leq0,\\forall i\\in\\left[n\\right]\n",
    "\\end{align*}\n",
    "\n",
    "But the LS didn't manage to separate the data and thus the data\n",
    "is not lineary seperable, and thus the above optimization will return $-\\infty$.\n",
    "\n",
    "So we need to drop constraints:\n",
    "\\begin{align*}\n",
    "\\min_{w}.\\quad & \\sum_{i}\\boldsymbol{1}_{y^{i}\\left\\langle x^{i},w\\right\\rangle \\geq0}\n",
    "\\end{align*}\n",
    "\n",
    "*BUT* the above formulation is not a convex problem.\n",
    "we'll solve this issue by minimizing a function which is an upper bound of the previous unconvex problem, but this one will be a convex optimization problem:\n",
    "\n",
    "\\begin{align*}\n",
    "\\min_{w}.\\quad & \\sum_{i}\\max\\left\\{ 0,1-y^{i}\\left\\langle x^{i},w\\right\\rangle \\right\\}\n",
    "\\end{align*}"
   ]
  },
  {
   "cell_type": "code",
   "execution_count": 16,
   "metadata": {},
   "outputs": [
    {
     "data": {
      "text/plain": [
       "612351.57867828873"
      ]
     },
     "execution_count": 16,
     "metadata": {},
     "output_type": "execute_result"
    }
   ],
   "source": [
    "def objective(w):\n",
    "    return np.sum(np.maximum(1- np.multiply(y, X*w).T, np.zeros(y.size)))\n",
    "\n",
    "def gradient(w):\n",
    "    g_i = np.array(np.multiply(y, X*w) <= 1).flatten()\n",
    "    return X[g_i].T * y[g_i]\n",
    "    \n",
    "w = np.random.normal(0,100,3).reshape(3,1)\n",
    "\n",
    "eps = 1e-5\n",
    "objective(w)"
   ]
  },
  {
   "cell_type": "markdown",
   "metadata": {},
   "source": [
    "Now we can finally use GD to solve the problem.\n",
    "For this task, backtracking is sufficient for quick convergance."
   ]
  },
  {
   "cell_type": "code",
   "execution_count": 17,
   "metadata": {},
   "outputs": [
    {
     "name": "stdout",
     "output_type": "stream",
     "text": [
      "0.585978835979\n",
      "0\n",
      "0.588624338624\n",
      "100\n",
      "0.593915343915\n",
      "200\n",
      "0.599206349206\n",
      "300\n",
      "0.617724867725\n",
      "400\n",
      "0.640211640212\n",
      "500\n",
      "0.667989417989\n",
      "600\n",
      "0.73544973545\n",
      "700\n",
      "0.756613756614\n",
      "749\n"
     ]
    }
   ],
   "source": [
    "def backtrack(w, g):\n",
    "    t=1\n",
    "    g_norm = g.T*g\n",
    "    base_eval = objective(w)\n",
    "    while objective(w+t*g)> (base_eval - 0.1*t*g_norm):\n",
    "        t /= 2\n",
    "    return t\n",
    "\n",
    "t=1\n",
    "i=0\n",
    "while t>eps:\n",
    "    g = gradient(w)\n",
    "    t = backtrack(w, g)\n",
    "    w += t*g\n",
    "    \n",
    "    if i % 100 == 0:\n",
    "        print(np.sum(np.multiply(X*w, y)>0)/y.size)\n",
    "        print(i)\n",
    "    i+=1\n",
    "print(np.sum(np.multiply(X*w, y)>0)/y.size)\n",
    "print(i)"
   ]
  },
  {
   "cell_type": "code",
   "execution_count": 18,
   "metadata": {},
   "outputs": [
    {
     "data": {
      "text/plain": [
       "<matplotlib.axes._subplots.AxesSubplot at 0x7fbf8cf94be0>"
      ]
     },
     "execution_count": 18,
     "metadata": {},
     "output_type": "execute_result"
    },
    {
     "data": {
      "image/png": "[encoded data removed]",
      "text/plain": [
       "<matplotlib.figure.Figure at 0x7fbf8ce8aa58>"
      ]
     },
     "metadata": {},
     "output_type": "display_data"
    }
   ],
   "source": [
    "yhat = X*w\n",
    "ax = data[yhat>0].plot(kind='scatter', x=\"SexCode\",y=\"Age\", label='survieved')\n",
    "data[yhat<=0].plot(kind='scatter', x=\"SexCode\",y=\"Age\", color='red', marker='_', label='passed', ax=ax)\n"
   ]
  },
  {
   "cell_type": "markdown",
   "metadata": {},
   "source": [
    "Notice that the accuracy is almost the same, but the \n",
    "partitioning is done differently."
   ]
  },
  {
   "cell_type": "code",
   "execution_count": null,
   "metadata": {},
   "outputs": [],
   "source": []
  }
 ],
 "metadata": {
  "kernelspec": {
   "display_name": "Python 3",
   "language": "python",
   "name": "python3"
  },
  "language_info": {
   "codemirror_mode": {
    "name": "ipython",
    "version": 3
   },
   "file_extension": ".py",
   "mimetype": "text/x-python",
   "name": "python",
   "nbconvert_exporter": "python",
   "pygments_lexer": "ipython3",
   "version": "3.5.2"
  }
 },
 "nbformat": 4,
 "nbformat_minor": 2
}

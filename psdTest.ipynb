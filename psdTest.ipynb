{
 "cells": [
  {
   "cell_type": "code",
   "execution_count": 1,
   "metadata": {},
   "outputs": [
    {
     "name": "stdout",
     "output_type": "stream",
     "text": [
      "Matrix is positive definite!\n"
     ]
    }
   ],
   "source": [
    "import numpy as np\n",
    "\n",
    "A = np.random.randn(10, 10)\n",
    "Ap = A.dot(A.T)\n",
    "\n",
    "try:\n",
    "    L = np.linalg.cholesky(Ap)\n",
    "except np.linalg.linalg.LinAlgError as e:\n",
    "    print(e)\n",
    "else:\n",
    "    print('Matrix is positive definite!')"
   ]
  },
  {
   "cell_type": "code",
   "execution_count": 2,
   "metadata": {},
   "outputs": [
    {
     "name": "stdout",
     "output_type": "stream",
     "text": [
      "Matrix is not positive definite\n"
     ]
    }
   ],
   "source": [
    "A = np.random.randn(10, 1)\n",
    "Ap = A.dot(A.T)\n",
    "\n",
    "try:\n",
    "    L = np.linalg.cholesky(Ap)\n",
    "except np.linalg.linalg.LinAlgError as e:\n",
    "    print(e)\n",
    "else:\n",
    "    print('Matrix is positive definite!')"
   ]
  },
  {
   "cell_type": "code",
   "execution_count": 3,
   "metadata": {},
   "outputs": [
    {
     "name": "stdout",
     "output_type": "stream",
     "text": [
      "The certificate vector:\n",
      " [[-0.85065081]\n",
      " [ 0.52573111]]\n",
      "Its value:\n",
      " [[-0.61803399]]\n"
     ]
    }
   ],
   "source": [
    "eps = 1e-6\n",
    "Ap = np.array([[0,1],[1,1]])\n",
    "(d, V) = np.linalg.eig(Ap) # Eigendecomposition\n",
    "if np.all(d > -eps):\n",
    "    print('Matrix is positive definite!')\n",
    "else:\n",
    "    neg = V[:,np.argwhere(d<-eps)[0]]\n",
    "    print('The certificate vector:\\n', neg)\n",
    "    print ('Its value:\\n', neg.T.dot(Ap).dot(neg))"
   ]
  },
  {
   "cell_type": "code",
   "execution_count": 4,
   "metadata": {},
   "outputs": [
    {
     "data": {
      "text/plain": [
       "array([[-1.3981512 ],\n",
       "       [ 0.42352481],\n",
       "       [ 0.52843671],\n",
       "       [-0.72543044],\n",
       "       [-0.24346878],\n",
       "       [-1.00565292],\n",
       "       [ 0.98381763],\n",
       "       [ 1.10011371],\n",
       "       [-0.07201398],\n",
       "       [ 1.40173865]])"
      ]
     },
     "execution_count": 4,
     "metadata": {},
     "output_type": "execute_result"
    }
   ],
   "source": [
    "A = np.random.randn(10, 10)\n",
    "v = np.random.randn(10, 1)\n",
    "vnorm = np.linalg.norm(v) # 2-norm of a vector\n",
    "np.linalg.solve(A, A.dot(v))\n"
   ]
  }
 ],
 "metadata": {
  "kernelspec": {
   "display_name": "Python 3",
   "language": "python",
   "name": "python3"
  },
  "language_info": {
   "codemirror_mode": {
    "name": "ipython",
    "version": 3
   },
   "file_extension": ".py",
   "mimetype": "text/x-python",
   "name": "python",
   "nbconvert_exporter": "python",
   "pygments_lexer": "ipython3",
   "version": "3.5.2"
  }
 },
 "nbformat": 4,
 "nbformat_minor": 2
}

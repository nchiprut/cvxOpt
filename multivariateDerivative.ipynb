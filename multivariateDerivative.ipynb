{
 "cells": [
  {
   "cell_type": "code",
   "execution_count": 1,
   "metadata": {},
   "outputs": [],
   "source": [
    "from scipy.misc import derivative\n",
    "from functools import partial\n",
    "import numpy as np"
   ]
  },
  {
   "cell_type": "code",
   "execution_count": 2,
   "metadata": {},
   "outputs": [],
   "source": [
    "def derv(f, x):\n",
    "    f_i = lambda i, val: f(np.vstack((x[:i], val, x[i+1:])))\n",
    "    return np.hstack([derivative(partial(f_i, i), x[i], 1e-5)\n",
    "                     for i in range(len(x))]).T"
   ]
  },
  {
   "cell_type": "code",
   "execution_count": 3,
   "metadata": {},
   "outputs": [],
   "source": [
    "class AffineFunc(object):\n",
    "    def __init__(self, A, b=0):\n",
    "        self.A = A\n",
    "        \n",
    "    def __call__(self, x):\n",
    "        return A * x\n",
    "    \n",
    "    def gradient(self, x=0):\n",
    "        return A.T\n",
    "    \n",
    "class Square(object):\n",
    "    def __call__(self, x):\n",
    "        return x.T * x\n",
    "    \n",
    "    def gradient(self, x):\n",
    "        return 2 * x"
   ]
  },
  {
   "cell_type": "code",
   "execution_count": 4,
   "metadata": {},
   "outputs": [
    {
     "name": "stdout",
     "output_type": "stream",
     "text": [
      "numerically\n",
      " [[ 48.]\n",
      " [ 68.]]\n",
      "numerically with prop\n",
      " [[ 48.]\n",
      " [ 68.]]\n",
      "prop\n",
      " [[ 48.]\n",
      " [ 68.]]\n"
     ]
    }
   ],
   "source": [
    "A = np.matrix([[1,2],[3,4]])\n",
    "x = np.matrix([1.,1.]).reshape((2,1))\n",
    "\n",
    "af = AffineFunc(A)\n",
    "sq = Square()\n",
    "quad = lambda x: sq(af(x))\n",
    "\n",
    "print('numerically\\n', derv(quad ,x))\n",
    "print('numerically with prop\\n', derv(af, x) * derv(sq ,af(x)))\n",
    "print('prop\\n', af.gradient(x) * sq.gradient(af(x)))"
   ]
  }
 ],
 "metadata": {
  "kernelspec": {
   "display_name": "Python 3",
   "language": "python",
   "name": "python3"
  },
  "language_info": {
   "codemirror_mode": {
    "name": "ipython",
    "version": 3
   },
   "file_extension": ".py",
   "mimetype": "text/x-python",
   "name": "python",
   "nbconvert_exporter": "python",
   "pygments_lexer": "ipython3",
   "version": "3.5.2"
  }
 },
 "nbformat": 4,
 "nbformat_minor": 2
}
